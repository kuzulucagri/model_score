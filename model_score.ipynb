{
 "cells": [
  {
   "cell_type": "code",
   "execution_count": 1,
   "metadata": {},
   "outputs": [],
   "source": [
    "import numpy as np\n",
    "import pandas as pd\n",
    "import statsmodels.api as sm"
   ]
  },
  {
   "cell_type": "code",
   "execution_count": 2,
   "metadata": {},
   "outputs": [],
   "source": [
    "dataset = pd.read_excel(\"dataset.xlsx\")"
   ]
  },
  {
   "cell_type": "code",
   "execution_count": 3,
   "metadata": {},
   "outputs": [
    {
     "data": {
      "text/html": [
       "<div>\n",
       "<style scoped>\n",
       "    .dataframe tbody tr th:only-of-type {\n",
       "        vertical-align: middle;\n",
       "    }\n",
       "\n",
       "    .dataframe tbody tr th {\n",
       "        vertical-align: top;\n",
       "    }\n",
       "\n",
       "    .dataframe thead th {\n",
       "        text-align: right;\n",
       "    }\n",
       "</style>\n",
       "<table border=\"1\" class=\"dataframe\">\n",
       "  <thead>\n",
       "    <tr style=\"text-align: right;\">\n",
       "      <th></th>\n",
       "      <th>yuzde40</th>\n",
       "      <th>yuzde50</th>\n",
       "      <th>yuzde40_son</th>\n",
       "      <th>yuzde50_son</th>\n",
       "    </tr>\n",
       "  </thead>\n",
       "  <tbody>\n",
       "    <tr>\n",
       "      <th>0</th>\n",
       "      <td>77.92</td>\n",
       "      <td>83.65</td>\n",
       "      <td>68.13</td>\n",
       "      <td>74.36</td>\n",
       "    </tr>\n",
       "    <tr>\n",
       "      <th>1</th>\n",
       "      <td>63.62</td>\n",
       "      <td>82.16</td>\n",
       "      <td>55.27</td>\n",
       "      <td>74.67</td>\n",
       "    </tr>\n",
       "    <tr>\n",
       "      <th>2</th>\n",
       "      <td>91.69</td>\n",
       "      <td>80.91</td>\n",
       "      <td>84.08</td>\n",
       "      <td>70.99</td>\n",
       "    </tr>\n",
       "    <tr>\n",
       "      <th>3</th>\n",
       "      <td>86.99</td>\n",
       "      <td>81.12</td>\n",
       "      <td>73.87</td>\n",
       "      <td>74.83</td>\n",
       "    </tr>\n",
       "    <tr>\n",
       "      <th>4</th>\n",
       "      <td>80.58</td>\n",
       "      <td>89.13</td>\n",
       "      <td>71.53</td>\n",
       "      <td>79.85</td>\n",
       "    </tr>\n",
       "    <tr>\n",
       "      <th>5</th>\n",
       "      <td>78.97</td>\n",
       "      <td>89.83</td>\n",
       "      <td>68.13</td>\n",
       "      <td>79.23</td>\n",
       "    </tr>\n",
       "    <tr>\n",
       "      <th>6</th>\n",
       "      <td>88.73</td>\n",
       "      <td>80.94</td>\n",
       "      <td>81.41</td>\n",
       "      <td>72.75</td>\n",
       "    </tr>\n",
       "    <tr>\n",
       "      <th>7</th>\n",
       "      <td>80.21</td>\n",
       "      <td>77.07</td>\n",
       "      <td>77.53</td>\n",
       "      <td>68.88</td>\n",
       "    </tr>\n",
       "    <tr>\n",
       "      <th>8</th>\n",
       "      <td>82.36</td>\n",
       "      <td>73.03</td>\n",
       "      <td>72.96</td>\n",
       "      <td>67.55</td>\n",
       "    </tr>\n",
       "    <tr>\n",
       "      <th>9</th>\n",
       "      <td>82.94</td>\n",
       "      <td>77.16</td>\n",
       "      <td>74.05</td>\n",
       "      <td>70.94</td>\n",
       "    </tr>\n",
       "    <tr>\n",
       "      <th>10</th>\n",
       "      <td>73.56</td>\n",
       "      <td>79.56</td>\n",
       "      <td>69.21</td>\n",
       "      <td>73.76</td>\n",
       "    </tr>\n",
       "    <tr>\n",
       "      <th>11</th>\n",
       "      <td>71.90</td>\n",
       "      <td>79.56</td>\n",
       "      <td>69.26</td>\n",
       "      <td>71.87</td>\n",
       "    </tr>\n",
       "    <tr>\n",
       "      <th>12</th>\n",
       "      <td>78.71</td>\n",
       "      <td>78.93</td>\n",
       "      <td>74.05</td>\n",
       "      <td>73.94</td>\n",
       "    </tr>\n",
       "    <tr>\n",
       "      <th>13</th>\n",
       "      <td>78.39</td>\n",
       "      <td>77.29</td>\n",
       "      <td>72.96</td>\n",
       "      <td>73.20</td>\n",
       "    </tr>\n",
       "    <tr>\n",
       "      <th>14</th>\n",
       "      <td>79.52</td>\n",
       "      <td>78.79</td>\n",
       "      <td>72.28</td>\n",
       "      <td>72.77</td>\n",
       "    </tr>\n",
       "    <tr>\n",
       "      <th>15</th>\n",
       "      <td>87.91</td>\n",
       "      <td>79.84</td>\n",
       "      <td>79.02</td>\n",
       "      <td>73.88</td>\n",
       "    </tr>\n",
       "  </tbody>\n",
       "</table>\n",
       "</div>"
      ],
      "text/plain": [
       "    yuzde40  yuzde50  yuzde40_son  yuzde50_son\n",
       "0     77.92    83.65        68.13        74.36\n",
       "1     63.62    82.16        55.27        74.67\n",
       "2     91.69    80.91        84.08        70.99\n",
       "3     86.99    81.12        73.87        74.83\n",
       "4     80.58    89.13        71.53        79.85\n",
       "5     78.97    89.83        68.13        79.23\n",
       "6     88.73    80.94        81.41        72.75\n",
       "7     80.21    77.07        77.53        68.88\n",
       "8     82.36    73.03        72.96        67.55\n",
       "9     82.94    77.16        74.05        70.94\n",
       "10    73.56    79.56        69.21        73.76\n",
       "11    71.90    79.56        69.26        71.87\n",
       "12    78.71    78.93        74.05        73.94\n",
       "13    78.39    77.29        72.96        73.20\n",
       "14    79.52    78.79        72.28        72.77\n",
       "15    87.91    79.84        79.02        73.88"
      ]
     },
     "execution_count": 3,
     "metadata": {},
     "output_type": "execute_result"
    }
   ],
   "source": [
    "dataset"
   ]
  },
  {
   "cell_type": "code",
   "execution_count": 4,
   "metadata": {},
   "outputs": [],
   "source": [
    "X = dataset.iloc[:,:-1].values\n",
    "y = dataset.iloc[:,-1:].values"
   ]
  },
  {
   "cell_type": "code",
   "execution_count": 5,
   "metadata": {},
   "outputs": [],
   "source": [
    "from sklearn.model_selection import train_test_split\n",
    "\n",
    "X_train,X_test,y_train,y_test = train_test_split(X,y,test_size = 0.33,random_state = 0)"
   ]
  },
  {
   "cell_type": "code",
   "execution_count": 6,
   "metadata": {
    "scrolled": false
   },
   "outputs": [
    {
     "name": "stdout",
     "output_type": "stream",
     "text": [
      "Linear Regression Model Score:  0.8159980673080426\n"
     ]
    }
   ],
   "source": [
    "from sklearn.linear_model import LinearRegression\n",
    "lin_reg = LinearRegression()\n",
    "\n",
    "lin_reg.fit(X_train,y_train)\n",
    "\n",
    "lin_reg_predict = lin_reg.predict(X_test)\n",
    "\n",
    "print(\"Linear Regression Model Score: \",lin_reg.score(X_train,y_train))"
   ]
  },
  {
   "cell_type": "code",
   "execution_count": 7,
   "metadata": {},
   "outputs": [
    {
     "name": "stdout",
     "output_type": "stream",
     "text": [
      "                                 OLS Regression Results                                \n",
      "=======================================================================================\n",
      "Dep. Variable:                      y   R-squared (uncentered):                   0.999\n",
      "Model:                            OLS   Adj. R-squared (uncentered):              0.998\n",
      "Method:                 Least Squares   F-statistic:                              852.3\n",
      "Date:                Sat, 17 Jul 2021   Prob (F-statistic):                    6.81e-05\n",
      "Time:                        15:30:51   Log-Likelihood:                         -14.068\n",
      "No. Observations:                   6   AIC:                                      34.14\n",
      "Df Residuals:                       3   BIC:                                      33.51\n",
      "Df Model:                           3                                                  \n",
      "Covariance Type:            nonrobust                                                  \n",
      "==============================================================================\n",
      "                 coef    std err          t      P>|t|      [0.025      0.975]\n",
      "------------------------------------------------------------------------------\n",
      "x1             0.8346      1.045      0.799      0.483      -2.491       4.160\n",
      "x2             0.7995      0.167      4.787      0.017       0.268       1.331\n",
      "x3            -0.7940      1.061     -0.749      0.508      -4.169       2.581\n",
      "==============================================================================\n",
      "Omnibus:                          nan   Durbin-Watson:                   2.294\n",
      "Prob(Omnibus):                    nan   Jarque-Bera (JB):                0.754\n",
      "Skew:                          -0.709   Prob(JB):                        0.686\n",
      "Kurtosis:                       1.998   Cond. No.                         137.\n",
      "==============================================================================\n",
      "\n",
      "Notes:\n",
      "[1] R² is computed without centering (uncentered) since the model does not contain a constant.\n",
      "[2] Standard Errors assume that the covariance matrix of the errors is correctly specified.\n"
     ]
    },
    {
     "name": "stderr",
     "output_type": "stream",
     "text": [
      "C:\\Users\\cagri\\Anaconda3\\lib\\site-packages\\statsmodels\\stats\\stattools.py:74: ValueWarning: omni_normtest is not valid with less than 8 observations; 6 samples were given.\n",
      "  warn(\"omni_normtest is not valid with less than 8 observations; %i \"\n"
     ]
    }
   ],
   "source": [
    "lin_reg_model = sm.OLS(lin_reg_predict,X_test)\n",
    "print(lin_reg_model.fit().summary())"
   ]
  },
  {
   "cell_type": "code",
   "execution_count": 8,
   "metadata": {},
   "outputs": [
    {
     "name": "stderr",
     "output_type": "stream",
     "text": [
      "C:\\Users\\cagri\\Anaconda3\\lib\\site-packages\\statsmodels\\stats\\stattools.py:74: ValueWarning: omni_normtest is not valid with less than 8 observations; 6 samples were given.\n",
      "  warn(\"omni_normtest is not valid with less than 8 observations; %i \"\n"
     ]
    },
    {
     "name": "stdout",
     "output_type": "stream",
     "text": [
      "                                 OLS Regression Results                                \n",
      "=======================================================================================\n",
      "Dep. Variable:                      y   R-squared (uncentered):                   0.999\n",
      "Model:                            OLS   Adj. R-squared (uncentered):              0.998\n",
      "Method:                 Least Squares   F-statistic:                              1436.\n",
      "Date:                Sat, 17 Jul 2021   Prob (F-statistic):                    1.93e-06\n",
      "Time:                        15:30:51   Log-Likelihood:                         -14.582\n",
      "No. Observations:                   6   AIC:                                      33.16\n",
      "Df Residuals:                       4   BIC:                                      32.75\n",
      "Df Model:                           2                                                  \n",
      "Covariance Type:            nonrobust                                                  \n",
      "==============================================================================\n",
      "                 coef    std err          t      P>|t|      [0.025      0.975]\n",
      "------------------------------------------------------------------------------\n",
      "x1             0.0599      0.138      0.434      0.687      -0.324       0.444\n",
      "x2             0.8604      0.138      6.251      0.003       0.478       1.243\n",
      "==============================================================================\n",
      "Omnibus:                          nan   Durbin-Watson:                   2.127\n",
      "Prob(Omnibus):                    nan   Jarque-Bera (JB):                0.608\n",
      "Skew:                          -0.398   Prob(JB):                        0.738\n",
      "Kurtosis:                       1.659   Cond. No.                         16.0\n",
      "==============================================================================\n",
      "\n",
      "Notes:\n",
      "[1] R² is computed without centering (uncentered) since the model does not contain a constant.\n",
      "[2] Standard Errors assume that the covariance matrix of the errors is correctly specified.\n"
     ]
    }
   ],
   "source": [
    "X_l = X_test[:,[0,1]]\n",
    "X_l = np.array(X_l,dtype = float)\n",
    "lin_reg_model = sm.OLS(lin_reg_predict,X_l).fit()\n",
    "print(lin_reg_model.summary())"
   ]
  },
  {
   "cell_type": "code",
   "execution_count": 9,
   "metadata": {},
   "outputs": [
    {
     "name": "stdout",
     "output_type": "stream",
     "text": [
      "                                 OLS Regression Results                                \n",
      "=======================================================================================\n",
      "Dep. Variable:                      y   R-squared (uncentered):                   0.999\n",
      "Model:                            OLS   Adj. R-squared (uncentered):              0.998\n",
      "Method:                 Least Squares   F-statistic:                              3428.\n",
      "Date:                Sat, 17 Jul 2021   Prob (F-statistic):                    2.75e-08\n",
      "Time:                        15:30:51   Log-Likelihood:                         -14.720\n",
      "No. Observations:                   6   AIC:                                      31.44\n",
      "Df Residuals:                       5   BIC:                                      31.23\n",
      "Df Model:                           1                                                  \n",
      "Covariance Type:            nonrobust                                                  \n",
      "==============================================================================\n",
      "                 coef    std err          t      P>|t|      [0.025      0.975]\n",
      "------------------------------------------------------------------------------\n",
      "x1             0.9196      0.016     58.552      0.000       0.879       0.960\n",
      "==============================================================================\n",
      "Omnibus:                          nan   Durbin-Watson:                   1.884\n",
      "Prob(Omnibus):                    nan   Jarque-Bera (JB):                0.426\n",
      "Skew:                          -0.447   Prob(JB):                        0.808\n",
      "Kurtosis:                       2.048   Cond. No.                         1.00\n",
      "==============================================================================\n",
      "\n",
      "Notes:\n",
      "[1] R² is computed without centering (uncentered) since the model does not contain a constant.\n",
      "[2] Standard Errors assume that the covariance matrix of the errors is correctly specified.\n"
     ]
    },
    {
     "name": "stderr",
     "output_type": "stream",
     "text": [
      "C:\\Users\\cagri\\Anaconda3\\lib\\site-packages\\statsmodels\\stats\\stattools.py:74: ValueWarning: omni_normtest is not valid with less than 8 observations; 6 samples were given.\n",
      "  warn(\"omni_normtest is not valid with less than 8 observations; %i \"\n"
     ]
    }
   ],
   "source": [
    "X_l = X_test[:,1]\n",
    "X_l = np.array(X_l,dtype = float)\n",
    "lin_reg_model = sm.OLS(lin_reg_predict,X_l).fit()\n",
    "print(lin_reg_model.summary())"
   ]
  },
  {
   "cell_type": "code",
   "execution_count": 10,
   "metadata": {},
   "outputs": [
    {
     "name": "stdout",
     "output_type": "stream",
     "text": [
      "Decision Tree Model Score:  1.0\n"
     ]
    }
   ],
   "source": [
    "from sklearn.tree import DecisionTreeRegressor\n",
    "\n",
    "dt_reg = DecisionTreeRegressor(random_state=0)\n",
    "\n",
    "dt_reg.fit(X_train,y_train)\n",
    "\n",
    "dt_reg_predict = dt_reg.predict(X_test)\n",
    "\n",
    "print(\"Decision Tree Model Score: \",dt_reg.score(X_train,y_train))"
   ]
  },
  {
   "cell_type": "code",
   "execution_count": 11,
   "metadata": {},
   "outputs": [
    {
     "name": "stdout",
     "output_type": "stream",
     "text": [
      "                                 OLS Regression Results                                \n",
      "=======================================================================================\n",
      "Dep. Variable:                      y   R-squared (uncentered):                   1.000\n",
      "Model:                            OLS   Adj. R-squared (uncentered):              1.000\n",
      "Method:                 Least Squares   F-statistic:                              5395.\n",
      "Date:                Sat, 17 Jul 2021   Prob (F-statistic):                    4.28e-06\n",
      "Time:                        15:30:53   Log-Likelihood:                         -8.4097\n",
      "No. Observations:                   6   AIC:                                      22.82\n",
      "Df Residuals:                       3   BIC:                                      22.19\n",
      "Df Model:                           3                                                  \n",
      "Covariance Type:            nonrobust                                                  \n",
      "==============================================================================\n",
      "                 coef    std err          t      P>|t|      [0.025      0.975]\n",
      "------------------------------------------------------------------------------\n",
      "x1             0.4411      0.407      1.084      0.358      -0.854       1.736\n",
      "x2             0.7312      0.065     11.243      0.002       0.524       0.938\n",
      "x3            -0.3000      0.413     -0.726      0.520      -1.614       1.014\n",
      "==============================================================================\n",
      "Omnibus:                          nan   Durbin-Watson:                   2.017\n",
      "Prob(Omnibus):                    nan   Jarque-Bera (JB):                0.819\n",
      "Skew:                          -0.895   Prob(JB):                        0.664\n",
      "Kurtosis:                       2.733   Cond. No.                         137.\n",
      "==============================================================================\n",
      "\n",
      "Notes:\n",
      "[1] R² is computed without centering (uncentered) since the model does not contain a constant.\n",
      "[2] Standard Errors assume that the covariance matrix of the errors is correctly specified.\n"
     ]
    },
    {
     "name": "stderr",
     "output_type": "stream",
     "text": [
      "C:\\Users\\cagri\\Anaconda3\\lib\\site-packages\\statsmodels\\stats\\stattools.py:74: ValueWarning: omni_normtest is not valid with less than 8 observations; 6 samples were given.\n",
      "  warn(\"omni_normtest is not valid with less than 8 observations; %i \"\n"
     ]
    }
   ],
   "source": [
    "dt_reg_model = sm.OLS(dt_reg_predict,X_test)\n",
    "print(dt_reg_model.fit().summary())"
   ]
  },
  {
   "cell_type": "code",
   "execution_count": 12,
   "metadata": {
    "scrolled": false
   },
   "outputs": [
    {
     "name": "stdout",
     "output_type": "stream",
     "text": [
      "                                 OLS Regression Results                                \n",
      "=======================================================================================\n",
      "Dep. Variable:                      y   R-squared (uncentered):                   1.000\n",
      "Model:                            OLS   Adj. R-squared (uncentered):              1.000\n",
      "Method:                 Least Squares   F-statistic:                              9176.\n",
      "Date:                Sat, 17 Jul 2021   Prob (F-statistic):                    4.75e-08\n",
      "Time:                        15:30:53   Log-Likelihood:                         -8.8958\n",
      "No. Observations:                   6   AIC:                                      21.79\n",
      "Df Residuals:                       4   BIC:                                      21.38\n",
      "Df Model:                           2                                                  \n",
      "Covariance Type:            nonrobust                                                  \n",
      "==============================================================================\n",
      "                 coef    std err          t      P>|t|      [0.025      0.975]\n",
      "------------------------------------------------------------------------------\n",
      "x1             0.1484      0.054      2.771      0.050      -0.000       0.297\n",
      "x2             0.7542      0.053     14.137      0.000       0.606       0.902\n",
      "==============================================================================\n",
      "Omnibus:                          nan   Durbin-Watson:                   1.867\n",
      "Prob(Omnibus):                    nan   Jarque-Bera (JB):                0.345\n",
      "Skew:                          -0.177   Prob(JB):                        0.842\n",
      "Kurtosis:                       1.881   Cond. No.                         16.0\n",
      "==============================================================================\n",
      "\n",
      "Notes:\n",
      "[1] R² is computed without centering (uncentered) since the model does not contain a constant.\n",
      "[2] Standard Errors assume that the covariance matrix of the errors is correctly specified.\n"
     ]
    },
    {
     "name": "stderr",
     "output_type": "stream",
     "text": [
      "C:\\Users\\cagri\\Anaconda3\\lib\\site-packages\\statsmodels\\stats\\stattools.py:74: ValueWarning: omni_normtest is not valid with less than 8 observations; 6 samples were given.\n",
      "  warn(\"omni_normtest is not valid with less than 8 observations; %i \"\n"
     ]
    }
   ],
   "source": [
    "X_l = X_test[:,[0,1]]\n",
    "X_l = np.array(X_l,dtype = float)\n",
    "dt_reg_model = sm.OLS(dt_reg_predict,X_l).fit()\n",
    "print(dt_reg_model.summary())"
   ]
  },
  {
   "cell_type": "code",
   "execution_count": 13,
   "metadata": {},
   "outputs": [
    {
     "name": "stdout",
     "output_type": "stream",
     "text": [
      "Random Forest Model Score:  0.8317108163508462\n"
     ]
    }
   ],
   "source": [
    "from sklearn.ensemble import RandomForestRegressor\n",
    "\n",
    "rf_reg = RandomForestRegressor(n_estimators=10,random_state=0)\n",
    "\n",
    "rf_reg.fit(X_train,y_train.ravel())\n",
    "\n",
    "rf_reg_predict = rf_reg.predict(X_test)\n",
    "\n",
    "print(\"Random Forest Model Score: \",rf_reg.score(X_train,y_train))"
   ]
  },
  {
   "cell_type": "code",
   "execution_count": 14,
   "metadata": {},
   "outputs": [
    {
     "name": "stdout",
     "output_type": "stream",
     "text": [
      "                                 OLS Regression Results                                \n",
      "=======================================================================================\n",
      "Dep. Variable:                      y   R-squared (uncentered):                   0.999\n",
      "Model:                            OLS   Adj. R-squared (uncentered):              0.999\n",
      "Method:                 Least Squares   F-statistic:                              1338.\n",
      "Date:                Sat, 17 Jul 2021   Prob (F-statistic):                    3.46e-05\n",
      "Time:                        15:30:54   Log-Likelihood:                         -12.644\n",
      "No. Observations:                   6   AIC:                                      31.29\n",
      "Df Residuals:                       3   BIC:                                      30.66\n",
      "Df Model:                           3                                                  \n",
      "Covariance Type:            nonrobust                                                  \n",
      "==============================================================================\n",
      "                 coef    std err          t      P>|t|      [0.025      0.975]\n",
      "------------------------------------------------------------------------------\n",
      "x1             0.7347      0.824      0.891      0.438      -1.888       3.358\n",
      "x2             0.6801      0.132      5.164      0.014       0.261       1.099\n",
      "x3            -0.5608      0.836     -0.671      0.551      -3.223       2.101\n",
      "==============================================================================\n",
      "Omnibus:                          nan   Durbin-Watson:                   2.754\n",
      "Prob(Omnibus):                    nan   Jarque-Bera (JB):                0.674\n",
      "Skew:                          -0.355   Prob(JB):                        0.714\n",
      "Kurtosis:                       1.519   Cond. No.                         137.\n",
      "==============================================================================\n",
      "\n",
      "Notes:\n",
      "[1] R² is computed without centering (uncentered) since the model does not contain a constant.\n",
      "[2] Standard Errors assume that the covariance matrix of the errors is correctly specified.\n"
     ]
    },
    {
     "name": "stderr",
     "output_type": "stream",
     "text": [
      "C:\\Users\\cagri\\Anaconda3\\lib\\site-packages\\statsmodels\\stats\\stattools.py:74: ValueWarning: omni_normtest is not valid with less than 8 observations; 6 samples were given.\n",
      "  warn(\"omni_normtest is not valid with less than 8 observations; %i \"\n"
     ]
    }
   ],
   "source": [
    "rf_reg_model = sm.OLS(rf_reg_predict,X_test)\n",
    "print(rf_reg_model.fit().summary())"
   ]
  },
  {
   "cell_type": "code",
   "execution_count": 15,
   "metadata": {},
   "outputs": [
    {
     "name": "stdout",
     "output_type": "stream",
     "text": [
      "                                 OLS Regression Results                                \n",
      "=======================================================================================\n",
      "Dep. Variable:                      y   R-squared (uncentered):                   0.999\n",
      "Model:                            OLS   Adj. R-squared (uncentered):              0.999\n",
      "Method:                 Least Squares   F-statistic:                              2327.\n",
      "Date:                Sat, 17 Jul 2021   Prob (F-statistic):                    7.37e-07\n",
      "Time:                        15:30:54   Log-Likelihood:                         -13.063\n",
      "No. Observations:                   6   AIC:                                      30.13\n",
      "Df Residuals:                       4   BIC:                                      29.71\n",
      "Df Model:                           2                                                  \n",
      "Covariance Type:            nonrobust                                                  \n",
      "==============================================================================\n",
      "                 coef    std err          t      P>|t|      [0.025      0.975]\n",
      "------------------------------------------------------------------------------\n",
      "x1             0.1875      0.107      1.749      0.155      -0.110       0.485\n",
      "x2             0.7231      0.107      6.768      0.002       0.426       1.020\n",
      "==============================================================================\n",
      "Omnibus:                          nan   Durbin-Watson:                   2.554\n",
      "Prob(Omnibus):                    nan   Jarque-Bera (JB):                0.486\n",
      "Skew:                          -0.118   Prob(JB):                        0.784\n",
      "Kurtosis:                       1.626   Cond. No.                         16.0\n",
      "==============================================================================\n",
      "\n",
      "Notes:\n",
      "[1] R² is computed without centering (uncentered) since the model does not contain a constant.\n",
      "[2] Standard Errors assume that the covariance matrix of the errors is correctly specified.\n"
     ]
    },
    {
     "name": "stderr",
     "output_type": "stream",
     "text": [
      "C:\\Users\\cagri\\Anaconda3\\lib\\site-packages\\statsmodels\\stats\\stattools.py:74: ValueWarning: omni_normtest is not valid with less than 8 observations; 6 samples were given.\n",
      "  warn(\"omni_normtest is not valid with less than 8 observations; %i \"\n"
     ]
    }
   ],
   "source": [
    "X_l = X_test[:,[0,1]]\n",
    "X_l = np.array(X_l,dtype = float)\n",
    "rf_reg_model = sm.OLS(rf_reg_predict,X_l).fit()\n",
    "print(rf_reg_model.summary())"
   ]
  },
  {
   "cell_type": "code",
   "execution_count": 16,
   "metadata": {},
   "outputs": [
    {
     "name": "stdout",
     "output_type": "stream",
     "text": [
      "                                 OLS Regression Results                                \n",
      "=======================================================================================\n",
      "Dep. Variable:                      y   R-squared (uncentered):                   0.998\n",
      "Model:                            OLS   Adj. R-squared (uncentered):              0.998\n",
      "Method:                 Least Squares   F-statistic:                              3295.\n",
      "Date:                Sat, 17 Jul 2021   Prob (F-statistic):                    3.04e-08\n",
      "Time:                        15:30:55   Log-Likelihood:                         -14.766\n",
      "No. Observations:                   6   AIC:                                      31.53\n",
      "Df Residuals:                       5   BIC:                                      31.32\n",
      "Df Model:                           1                                                  \n",
      "Covariance Type:            nonrobust                                                  \n",
      "==============================================================================\n",
      "                 coef    std err          t      P>|t|      [0.025      0.975]\n",
      "------------------------------------------------------------------------------\n",
      "x1             0.9085      0.016     57.403      0.000       0.868       0.949\n",
      "==============================================================================\n",
      "Omnibus:                          nan   Durbin-Watson:                   1.564\n",
      "Prob(Omnibus):                    nan   Jarque-Bera (JB):                0.097\n",
      "Skew:                           0.145   Prob(JB):                        0.952\n",
      "Kurtosis:                       2.447   Cond. No.                         1.00\n",
      "==============================================================================\n",
      "\n",
      "Notes:\n",
      "[1] R² is computed without centering (uncentered) since the model does not contain a constant.\n",
      "[2] Standard Errors assume that the covariance matrix of the errors is correctly specified.\n"
     ]
    },
    {
     "name": "stderr",
     "output_type": "stream",
     "text": [
      "C:\\Users\\cagri\\Anaconda3\\lib\\site-packages\\statsmodels\\stats\\stattools.py:74: ValueWarning: omni_normtest is not valid with less than 8 observations; 6 samples were given.\n",
      "  warn(\"omni_normtest is not valid with less than 8 observations; %i \"\n"
     ]
    }
   ],
   "source": [
    "X_l = X_test[:,1]\n",
    "X_l = np.array(X_l,dtype = float)\n",
    "rf_reg_model = sm.OLS(rf_reg_predict,X_l).fit()\n",
    "print(rf_reg_model.summary())"
   ]
  },
  {
   "cell_type": "code",
   "execution_count": 17,
   "metadata": {},
   "outputs": [
    {
     "name": "stdout",
     "output_type": "stream",
     "text": [
      "Support Vector Machine Model Score:  0.6702584324617673\n"
     ]
    }
   ],
   "source": [
    "from sklearn.preprocessing import StandardScaler\n",
    "\n",
    "standart_scaler1 = StandardScaler()\n",
    "scaled_x = standart_scaler1.fit_transform(X)\n",
    "standart_scaler2 = StandardScaler()\n",
    "scaled_y = standart_scaler2.fit_transform(y)\n",
    "\n",
    "X_train,X_test,y_train,y_test = train_test_split(scaled_x,scaled_y,test_size = 0.33,random_state = 0)\n",
    "\n",
    "from sklearn.svm import SVR\n",
    "\n",
    "svr = SVR(kernel=\"rbf\")\n",
    "svr.fit(X_train,y_train.ravel())\n",
    "\n",
    "svr_predict = svr.predict(X_test)\n",
    "\n",
    "print(\"Support Vector Machine Model Score: \",svr.score(X_train,y_train))"
   ]
  },
  {
   "cell_type": "code",
   "execution_count": 18,
   "metadata": {},
   "outputs": [
    {
     "name": "stdout",
     "output_type": "stream",
     "text": [
      "                                 OLS Regression Results                                \n",
      "=======================================================================================\n",
      "Dep. Variable:                      y   R-squared (uncentered):                   0.885\n",
      "Model:                            OLS   Adj. R-squared (uncentered):              0.771\n",
      "Method:                 Least Squares   F-statistic:                              7.732\n",
      "Date:                Sat, 17 Jul 2021   Prob (F-statistic):                      0.0635\n",
      "Time:                        15:30:55   Log-Likelihood:                          3.0727\n",
      "No. Observations:                   6   AIC:                                    -0.1454\n",
      "Df Residuals:                       3   BIC:                                    -0.7701\n",
      "Df Model:                           3                                                  \n",
      "Covariance Type:            nonrobust                                                  \n",
      "==============================================================================\n",
      "                 coef    std err          t      P>|t|      [0.025      0.975]\n",
      "------------------------------------------------------------------------------\n",
      "x1             0.6987      0.395      1.769      0.175      -0.559       1.956\n",
      "x2             0.2967      0.069      4.309      0.023       0.078       0.516\n",
      "x3            -0.6573      0.364     -1.807      0.168      -1.815       0.500\n",
      "==============================================================================\n",
      "Omnibus:                          nan   Durbin-Watson:                   1.538\n",
      "Prob(Omnibus):                    nan   Jarque-Bera (JB):                0.842\n",
      "Skew:                          -0.016   Prob(JB):                        0.656\n",
      "Kurtosis:                       1.165   Cond. No.                         11.0\n",
      "==============================================================================\n",
      "\n",
      "Notes:\n",
      "[1] R² is computed without centering (uncentered) since the model does not contain a constant.\n",
      "[2] Standard Errors assume that the covariance matrix of the errors is correctly specified.\n"
     ]
    },
    {
     "name": "stderr",
     "output_type": "stream",
     "text": [
      "C:\\Users\\cagri\\Anaconda3\\lib\\site-packages\\statsmodels\\stats\\stattools.py:74: ValueWarning: omni_normtest is not valid with less than 8 observations; 6 samples were given.\n",
      "  warn(\"omni_normtest is not valid with less than 8 observations; %i \"\n"
     ]
    }
   ],
   "source": [
    "svr_model = sm.OLS(svr_predict,X_test)\n",
    "print(svr_model.fit().summary())"
   ]
  },
  {
   "cell_type": "code",
   "execution_count": null,
   "metadata": {},
   "outputs": [],
   "source": []
  }
 ],
 "metadata": {
  "kernelspec": {
   "display_name": "Python 3 (ipykernel)",
   "language": "python",
   "name": "python3"
  },
  "language_info": {
   "codemirror_mode": {
    "name": "ipython",
    "version": 3
   },
   "file_extension": ".py",
   "mimetype": "text/x-python",
   "name": "python",
   "nbconvert_exporter": "python",
   "pygments_lexer": "ipython3",
   "version": "3.8.5"
  }
 },
 "nbformat": 4,
 "nbformat_minor": 4
}
